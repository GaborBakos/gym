{
 "cells": [
  {
   "cell_type": "code",
   "execution_count": null,
   "metadata": {
    "hide_input": true,
    "tags": [
     "parameters"
    ]
   },
   "outputs": [],
   "source": [
    "USER_ID = 'PI'"
   ]
  },
  {
   "cell_type": "code",
   "execution_count": null,
   "metadata": {
    "hide_input": true
   },
   "outputs": [],
   "source": [
    "import numpy\n",
    "import pandas\n",
    "import datetime\n",
    "import time\n",
    "from exercise_generator import generate_workout, format_df, column_formater\n",
    "from database_connection import setup_connection, load_user_config\n",
    "from formatter import column_formater, table_formatter\n",
    "from IPython.core.display import display, HTML\n",
    "display(HTML('<style>.prompt{width: 0px; min-width: 0px; visibility: collapse}</style>'))\n",
    "numpy.random.seed(int(time.time()))\n",
    "conn = setup_connection()\n",
    "user_config = load_user_config(conn, USER_ID)"
   ]
  },
  {
   "cell_type": "markdown",
   "metadata": {
    "hide_input": false
   },
   "source": [
    "# Exercises for Week __"
   ]
  },
  {
   "cell_type": "code",
   "execution_count": null,
   "metadata": {
    "hide_input": true,
    "scrolled": false
   },
   "outputs": [],
   "source": [
    "format_df(generate_workout(\"Mon\", conn, user_config).replace(numpy.nan, \"\"), column_style=column_formater, table_style=table_formatter)"
   ]
  },
  {
   "cell_type": "code",
   "execution_count": null,
   "metadata": {
    "hide_input": true
   },
   "outputs": [],
   "source": [
    "format_df(generate_workout(\"Tue\", conn, user_config).replace(numpy.nan, \"\"), column_style=column_formater, table_style=table_formatter)"
   ]
  },
  {
   "cell_type": "code",
   "execution_count": null,
   "metadata": {
    "hide_input": true
   },
   "outputs": [],
   "source": [
    "format_df(generate_workout(\"Wed\", conn, user_config).replace(numpy.nan, \"\"), column_style=column_formater, table_style=table_formatter)"
   ]
  },
  {
   "cell_type": "code",
   "execution_count": null,
   "metadata": {
    "hide_input": true
   },
   "outputs": [],
   "source": [
    "format_df(generate_workout(\"Thu\", conn, user_config).replace(numpy.nan, \"\"), column_style=column_formater, table_style=table_formatter)"
   ]
  },
  {
   "cell_type": "code",
   "execution_count": null,
   "metadata": {
    "hide_input": true
   },
   "outputs": [],
   "source": [
    "format_df(generate_workout(\"Fri\", conn, user_config).replace(numpy.nan, \"\"), column_style=column_formater, table_style=table_formatter)"
   ]
  },
  {
   "cell_type": "code",
   "execution_count": null,
   "metadata": {
    "hide_input": true
   },
   "outputs": [],
   "source": [
    "format_df(generate_workout(\"Sat\", conn, user_config).replace(numpy.nan, \"\"), column_style=column_formater, table_style=table_formatter)"
   ]
  },
  {
   "cell_type": "code",
   "execution_count": null,
   "metadata": {
    "hide_input": true
   },
   "outputs": [],
   "source": [
    "format_df(generate_workout(\"Sun\", conn, user_config).replace(numpy.nan, \"\"), column_style=column_formater, table_style=table_formatter)"
   ]
  }
 ],
 "metadata": {
  "celltoolbar": "Tags",
  "kernelspec": {
   "display_name": "Python 3",
   "language": "python",
   "name": "python3"
  },
  "language_info": {
   "codemirror_mode": {
    "name": "ipython",
    "version": 3
   },
   "file_extension": ".py",
   "mimetype": "text/x-python",
   "name": "python",
   "nbconvert_exporter": "python",
   "pygments_lexer": "ipython3",
   "version": "3.7.4"
  },
  "latex_envs": {
   "LaTeX_envs_menu_present": true,
   "autoclose": false,
   "autocomplete": true,
   "bibliofile": "biblio.bib",
   "cite_by": "apalike",
   "current_citInitial": 1,
   "eqLabelWithNumbers": true,
   "eqNumInitial": 1,
   "hotkeys": {
    "equation": "Ctrl-E",
    "itemize": "Ctrl-I"
   },
   "labels_anchors": false,
   "latex_user_defs": false,
   "report_style_numbering": false,
   "user_envs_cfg": false
  }
 },
 "nbformat": 4,
 "nbformat_minor": 2
}
